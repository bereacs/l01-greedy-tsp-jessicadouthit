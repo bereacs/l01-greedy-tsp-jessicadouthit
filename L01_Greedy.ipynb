{
  "nbformat": 4,
  "nbformat_minor": 0,
  "metadata": {
    "colab": {
      "name": "L01: Greedy.ipynb",
      "provenance": [],
      "include_colab_link": true
    },
    "kernelspec": {
      "name": "python3",
      "display_name": "Python 3"
    }
  },
  "cells": [
    {
      "cell_type": "markdown",
      "metadata": {
        "id": "view-in-github",
        "colab_type": "text"
      },
      "source": [
        "<a href=\"https://colab.research.google.com/github/bereacs/l01-greedy-tsp-jessicadouthit/blob/master/L01_Greedy.ipynb\" target=\"_parent\"><img src=\"https://colab.research.google.com/assets/colab-badge.svg\" alt=\"Open In Colab\"/></a>"
      ]
    },
    {
      "cell_type": "markdown",
      "metadata": {
        "id": "Ws6rXa1xv_gv"
      },
      "source": [
        "# [L01: Implementing Greedy TSP](https://docs.google.com/document/d/1JA_CWBXPN6whvJAemnJLvtYJ3Pbk84dTUolWO_QqosA/edit?usp=sharing)\n",
        "Written by Dr. Jan Pearce, Berea College\n",
        "\n",
        "Complete the code by meeting all linked requirements and fixing all FIXMEs\n",
        "\n",
        "## Your Name: FIXME"
      ]
    },
    {
      "cell_type": "markdown",
      "metadata": {
        "id": "PvEpt0HPKq9X"
      },
      "source": [
        "**SUMMARY**: A brief summary description of the design and implementation, including how much your initial design plan evolved, the final result you achieved and the amount of time you spent as a programmer or programmers in accomplishing these results. This should be no more than two paragraphs.\n",
        "\n",
        "FIXME\n",
        "\n",
        "**PERSONNEL**: A description of who you worked with and on what sections.  It is expected that all collaboration is done as pair programming together. Also, note these collaborations in the code section itself.\n",
        "\n",
        "FIXME\n",
        "\n",
        "**CHALLENGES**: Descriptions of the largest challenges you overcame and what made them challenging.\n",
        "\n",
        "FIXME\n",
        "\n",
        "**INNOVATIONS**: Any innovations that were not specifically required by the assignment. These are not required, but should be highlighted if included.\n",
        "\n",
        "FIXME\n",
        "\n",
        "**TESTING**: Describe how you tested this work.\n",
        "\n",
        "FIXME\n",
        "\n",
        "**ERRORS**: A list in bulleted form of all known errors and deficiencies.\n",
        "\n",
        "FIXME\n",
        "\n",
        "**COMMENTS**: A paragraph or so of your own comments on and reactions to the Lab.\n",
        "\n",
        "FIXME"
      ]
    },
    {
      "cell_type": "markdown",
      "metadata": {
        "id": "lRXe-Atyv30H"
      },
      "source": [
        "## Import Libraries"
      ]
    },
    {
      "cell_type": "code",
      "metadata": {
        "id": "b6koAGG2mhix"
      },
      "source": [
        "import networkx as nx\n",
        "import matplotlib.pyplot as plt\n",
        "import math\n",
        "from urllib.request import urlopen"
      ],
      "execution_count": null,
      "outputs": []
    },
    {
      "cell_type": "markdown",
      "metadata": {
        "id": "y-JqngNLmhVG"
      },
      "source": [
        "### Read data"
      ]
    },
    {
      "cell_type": "code",
      "metadata": {
        "id": "GzeEKA-nwLsJ",
        "outputId": "599bf940-88e3-4253-e2fa-3b5452e7b70b",
        "colab": {
          "base_uri": "https://localhost:8080/",
          "height": 153
        }
      },
      "source": [
        "tspdata = urlopen(\"http://cs.berea.edu/courses/csc445/data/tsp-small.txt\").read().decode('ASCII')\n",
        "print(tspdata)"
      ],
      "execution_count": null,
      "outputs": [
        {
          "output_type": "stream",
          "text": [
            "6\r\n",
            "1 5 \r\n",
            "3 7 \r\n",
            "5 11 \r\n",
            "3 5 \r\n",
            "5 7 \r\n",
            "7 9 \r\n",
            "\n"
          ],
          "name": "stdout"
        }
      ]
    },
    {
      "cell_type": "markdown",
      "metadata": {
        "id": "qGcB5022KlHL"
      },
      "source": [
        "## TSP Class"
      ]
    },
    {
      "cell_type": "code",
      "metadata": {
        "id": "KIzVOICElISX",
        "outputId": "e7491c04-f2ba-41a6-9f65-be7b0f00eb7e",
        "colab": {
          "base_uri": "https://localhost:8080/",
          "height": 319
        }
      },
      "source": [
        "\"\"\"\n",
        "Greedy TSP implementation using NetworkX.\n",
        "Reads coordinates from a .txt file, builds a graph, applies the greedy heuristic,\n",
        "and outputs both a visualization and the solution path in required format.\n",
        "\n",
        "Author: Jessica Douthit\n",
        "Course: CSC445\n",
        "Assignment: L01 Implementing Greedy TSP\n",
        "\"\"\"\n",
        "\n",
        "import networkx as nx\n",
        "import matplotlib.pyplot as plt\n",
        "import math\n",
        "\n",
        "\n",
        "class TSP:\n",
        "\n",
        "    def __init__(self):\n",
        "        \"\"\" TSP class containing data needed for networkx graph creation, file reading and file writing.\n",
        "            Creates a graph for the traveling salesperson problem using the greedy algorithm\n",
        "        \"\"\"\n",
        "        self.dimension = None\n",
        "        self.nodeData = []\n",
        "        self.graph = nx.DiGraph()\n",
        "        self.coords = {}\n",
        "        self.places = []\n",
        "        self.route = []\n",
        "\n",
        "    def extractData(self, inputFile=\"\"):\n",
        "        \"\"\"\n",
        "        Iterates through the input file and appends each coordinate into the node list.\n",
        "\n",
        "        \"\"\"\n",
        "        with open(inputFile, 'r') as f:\n",
        "            lines = f.readlines()\n",
        "        self.dimension = int(lines[0].strip())\n",
        "        self.nodeData = []\n",
        "        for i, line in enumerate(lines[1:], start=1):\n",
        "            x, y = map(int, line.split())\n",
        "            self.nodeData.append((i, (x, y)))  # store node number + coordinate\n",
        "\n",
        "    def setUpCoords(self):\n",
        "        \"\"\" Puts the coordinates for each node into a dictionary as a tuple with the node as the key \"\"\"\n",
        "        for node, coord in self.nodeData:\n",
        "            self.coords[node] = coord\n",
        "\n",
        "    def calculateDistance(self, a, b):\n",
        "        \"\"\"calculates & returns the distance between points a and b\n",
        "        Arguments:\n",
        "            a {[tuple]} -- tuple of numbers for the x and y coordinate of a node\n",
        "            b {[tuple]} -- tuple of numbers for the x and y coordinate of a node\n",
        "        Returns:\n",
        "            [float] -- the distance between the two points using the distance formula\n",
        "        \"\"\"\n",
        "        return math.sqrt((a[0] - b[0])**2 + (a[1] - b[1])**2)\n",
        "\n",
        "    def getRoute(self, current, visits=None, nVisits=None, needList=True):\n",
        "        \"\"\"Makes a list of the nodes to be visited, in order, according to the greedy algorithm for the TSP\n",
        "        Arguments:\n",
        "            current {int} -- the node to start at, not a list index\n",
        "        Keyword Arguments:\n",
        "            visits {list} -- list of places already visited (default: {[]})\n",
        "            nVisits {list} -- list of places not visited (default: {[]})\n",
        "            needList {bool} -- boolean deciding if the list of places not visited needs to be filled (default: {True})\n",
        "        \"\"\"\n",
        "        if visits is None: visits = []\n",
        "        if nVisits is None: nVisits = []\n",
        "\n",
        "        if needList:\n",
        "            visits = [current]\n",
        "            nVisits = self.listPlaces()\n",
        "            nVisits.remove(current)\n",
        "\n",
        "        # while there are still unvisited nodes\n",
        "        while nVisits:\n",
        "            nearest = min(\n",
        "                nVisits,\n",
        "                key=lambda city: self.calculateDistance(self.coords[current], self.coords[city])\n",
        "            )\n",
        "            visits.append(nearest)\n",
        "            nVisits.remove(nearest)\n",
        "            current = nearest\n",
        "\n",
        "        return visits\n",
        "\n",
        "    def beGreedy(self, start=None):\n",
        "        \"\"\" Puts together the greedy algorithm.\n",
        "        If a start node is provided, uses only that start.\n",
        "        If no start node is provided, tries all nodes and picks the best tour.\n",
        "        Arguments:\n",
        "            start {int} -- the starting node for the greedy algorithm (default: None)\n",
        "        \"\"\"\n",
        "        if start is not None:\n",
        "            # Run greedy just from the given start\n",
        "            self.route = self.getRoute(start)\n",
        "            self.route.append(start)\n",
        "            return self.route\n",
        "\n",
        "        # Otherwise, try all start nodes and keep the best\n",
        "        best_route = None\n",
        "        best_cost = float(\"inf\")\n",
        "\n",
        "        for s in self.listPlaces():\n",
        "            route = self.getRoute(s)\n",
        "            route.append(s)\n",
        "            cost = 0\n",
        "            for i in range(len(route) - 1):\n",
        "                cost += self.calculateDistance(self.coords[route[i]], self.coords[route[i+1]])\n",
        "\n",
        "            if cost < best_cost:\n",
        "                best_cost = cost\n",
        "                best_route = route\n",
        "\n",
        "        self.route = best_route\n",
        "        return self.route\n",
        "\n",
        "    def listPlaces(self):\n",
        "        \"\"\"makes a list of all the nodes/places from the dictionary\n",
        "        Returns:\n",
        "            [list] -- list of all the nodes/places\n",
        "        \"\"\"\n",
        "        return list(self.coords.keys())\n",
        "\n",
        "    def cleanUpList(self, visited, notVisited):\n",
        "        \"\"\"removes items in visited from notVisited\n",
        "        Arguments:\n",
        "            visited {list}\n",
        "            notVisited {list}\n",
        "        Returns:\n",
        "            [list] -- a list of notVisited - visited\n",
        "        \"\"\"\n",
        "        for item in visited:\n",
        "            if item in notVisited:\n",
        "                notVisited.remove(item)\n",
        "        return notVisited\n",
        "\n",
        "    def addNodes(self):\n",
        "        \"\"\" adds nodes to the networkx graph \"\"\"\n",
        "        for everything in self.nodeData:\n",
        "            node = everything[0]\n",
        "            self.graph.add_node(node, pos=self.coords[node])\n",
        "\n",
        "    def addEdges(self):\n",
        "        \"\"\"Adds edges to the networkx graph\"\"\"\n",
        "        x = 0\n",
        "        while x < len(self.route)-1:\n",
        "            self.graph.add_edge(\n",
        "                self.route[x],\n",
        "                self.route[x+1],\n",
        "                weight=self.calculateDistance(\n",
        "                    self.coords[self.route[x]],\n",
        "                    self.coords[self.route[x+1]]\n",
        "                )\n",
        "            )\n",
        "            x += 1\n",
        "\n",
        "    def showGraph(self):\n",
        "        \"\"\"Uses the imported libraries to display the graph\"\"\"\n",
        "        coords = nx.get_node_attributes(self.graph, 'pos')\n",
        "        labels = nx.get_edge_attributes(self.graph, 'weight')\n",
        "        nx.draw(self.graph, coords, with_labels=True, node_color=\"lightblue\")\n",
        "        nx.draw_networkx_edge_labels(\n",
        "            self.graph,\n",
        "            coords,\n",
        "            edge_labels={e: f\"{w:.1f}\" for e, w in labels.items()}\n",
        "        )\n",
        "        plt.show()\n",
        "\n",
        "    def formatOutput(self):\n",
        "        \"\"\"Return a triple-quoted string of the tour in input format (but in tour order).\"\"\"\n",
        "        output = f\"{len(self.route) - 1}\\n\"  # exclude repeated last node\n",
        "        for node in self.route[:-1]:\n",
        "            x, y = self.coords[node]\n",
        "            output += f\"{x} {y}\\n\"\n",
        "        return f'\"\"\"\\n{output.strip()}\\n\"\"\"'\n",
        "\n",
        "\n",
        "def main():\n",
        "    tsp = TSP()\n",
        "\n",
        "    # Choose which file to run\n",
        "    tsp.extractData(\"tsp-small.txt\")\n",
        "    # tsp.extractData(\"tsp-48.txt\")\n",
        "\n",
        "    tsp.setUpCoords()\n",
        "    tsp.addNodes()\n",
        "    tsp.beGreedy()       # will run best greedy across all start nodes\n",
        "    tsp.addEdges()\n",
        "    tsp.showGraph()\n",
        "\n",
        "    print(tsp.formatOutput())\n",
        "\n",
        "\n",
        "if __name__ == \"__main__\":\n",
        "    main()\n"
      ],
      "execution_count": null,
      "outputs": [
        {
          "output_type": "display_data",
          "data": {
            "image/png": "[encoded data removed]",
            "text/plain": [
              "<Figure size 432x288 with 1 Axes>"
            ]
          },
          "metadata": {
            "tags": []
          }
        }
      ]
    },
    {
      "cell_type": "markdown",
      "metadata": {
        "id": "-6HarsXemeKP"
      },
      "source": []
    }
  ]
}